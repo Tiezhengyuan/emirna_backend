{
 "cells": [
  {
   "cell_type": "code",
   "execution_count": 10,
   "id": "acce6d80-f541-483b-b0fb-d42a1baaac86",
   "metadata": {},
   "outputs": [],
   "source": [
    "import pandas as pd\n",
    "import re\n",
    "import pysam\n",
    "from Bio import SeqIO\n",
    "from Bio.Seq import Seq\n",
    "from Bio.SeqRecord import SeqRecord"
   ]
  },
  {
   "cell_type": "code",
   "execution_count": 24,
   "id": "ac28c8d6-8d18-4dc9-9000-7df6279b8c1d",
   "metadata": {},
   "outputs": [],
   "source": [
    "def analyze_samfile(sam_file, unaligned_file):\n",
    "    rc = {}\n",
    "    samfile = pysam.AlignmentFile(sam_file, 'r')\n",
    "    with open(unaligned_file, 'w') as f:\n",
    "        for rec in samfile.fetch():\n",
    "            if rec.reference_name:\n",
    "                if rec.reference_name not in rc:\n",
    "                    rc[rec.reference_name] = 1\n",
    "                else:\n",
    "                    rc[rec.reference_name] += 1\n",
    "            else:\n",
    "                if rec.seq:\n",
    "                    record = SeqRecord(\n",
    "                        Seq(rec.seq),\n",
    "                        id=rec.qname,\n",
    "                        description='',\n",
    "                    )\n",
    "                    SeqIO.write(record, f, 'fasta')\n",
    "    return rc\n",
    "\n",
    "samfile='/home/yuan/bio/results/P00002/T03_align_short_reads/LW_AB_1.sam'\n",
    "rc = analyze_samfile(samfile, \"unaligned.fasta\")"
   ]
  },
  {
   "cell_type": "code",
   "execution_count": 33,
   "id": "14e69f39-4457-4606-87e2-3d5796e67076",
   "metadata": {},
   "outputs": [
    {
     "data": {
      "text/html": [
       "<div>\n",
       "<style scoped>\n",
       "    .dataframe tbody tr th:only-of-type {\n",
       "        vertical-align: middle;\n",
       "    }\n",
       "\n",
       "    .dataframe tbody tr th {\n",
       "        vertical-align: top;\n",
       "    }\n",
       "\n",
       "    .dataframe thead th {\n",
       "        text-align: right;\n",
       "    }\n",
       "</style>\n",
       "<table border=\"1\" class=\"dataframe\">\n",
       "  <thead>\n",
       "    <tr style=\"text-align: right;\">\n",
       "      <th></th>\n",
       "      <th>a</th>\n",
       "    </tr>\n",
       "  </thead>\n",
       "  <tbody>\n",
       "    <tr>\n",
       "      <th>hsa-miR-99a-5p</th>\n",
       "      <td>2276</td>\n",
       "    </tr>\n",
       "    <tr>\n",
       "      <th>hsa-miR-219a-2-3p</th>\n",
       "      <td>29</td>\n",
       "    </tr>\n",
       "    <tr>\n",
       "      <th>hsa-miR-9-3p</th>\n",
       "      <td>715</td>\n",
       "    </tr>\n",
       "    <tr>\n",
       "      <th>hsa-miR-22-3p</th>\n",
       "      <td>1609</td>\n",
       "    </tr>\n",
       "    <tr>\n",
       "      <th>hsa-miR-124-3p</th>\n",
       "      <td>2866</td>\n",
       "    </tr>\n",
       "    <tr>\n",
       "      <th>...</th>\n",
       "      <td>...</td>\n",
       "    </tr>\n",
       "    <tr>\n",
       "      <th>hsa-miR-496</th>\n",
       "      <td>1</td>\n",
       "    </tr>\n",
       "    <tr>\n",
       "      <th>hsa-miR-7-2-3p</th>\n",
       "      <td>1</td>\n",
       "    </tr>\n",
       "    <tr>\n",
       "      <th>hsa-miR-6720-5p</th>\n",
       "      <td>1</td>\n",
       "    </tr>\n",
       "    <tr>\n",
       "      <th>hsa-miR-3150b-3p</th>\n",
       "      <td>1</td>\n",
       "    </tr>\n",
       "    <tr>\n",
       "      <th>hsa-miR-143-5p</th>\n",
       "      <td>1</td>\n",
       "    </tr>\n",
       "  </tbody>\n",
       "</table>\n",
       "<p>457 rows × 1 columns</p>\n",
       "</div>"
      ],
      "text/plain": [
       "                      a\n",
       "hsa-miR-99a-5p     2276\n",
       "hsa-miR-219a-2-3p    29\n",
       "hsa-miR-9-3p        715\n",
       "hsa-miR-22-3p      1609\n",
       "hsa-miR-124-3p     2866\n",
       "...                 ...\n",
       "hsa-miR-496           1\n",
       "hsa-miR-7-2-3p        1\n",
       "hsa-miR-6720-5p       1\n",
       "hsa-miR-3150b-3p      1\n",
       "hsa-miR-143-5p        1\n",
       "\n",
       "[457 rows x 1 columns]"
      ]
     },
     "execution_count": 33,
     "metadata": {},
     "output_type": "execute_result"
    }
   ],
   "source": [
    "df = pd.DataFrame.from_dict(rc, orient='index', columns=['a']).fillna(0).astype('i8')\n",
    "df\n",
    "# outfile = output_prefix + \".RC.txt\"\n",
    "# df.to_csv(outfile, sep='\\t')"
   ]
  },
  {
   "cell_type": "code",
   "execution_count": null,
   "id": "d1c750c5-dbbd-4aec-b804-203cd75b24de",
   "metadata": {},
   "outputs": [],
   "source": []
  },
  {
   "cell_type": "code",
   "execution_count": 149,
   "id": "0d2965c8-1246-42d6-9a94-65d1df60ec80",
   "metadata": {},
   "outputs": [],
   "source": []
  },
  {
   "cell_type": "code",
   "execution_count": null,
   "id": "b645ff00-8e94-4254-8fb6-a8fdf451deb8",
   "metadata": {},
   "outputs": [],
   "source": []
  },
  {
   "cell_type": "code",
   "execution_count": null,
   "id": "7ba3a2aa-d7fd-4d00-a83f-01bd0ba3e225",
   "metadata": {},
   "outputs": [],
   "source": []
  }
 ],
 "metadata": {
  "kernelspec": {
   "display_name": "Python 3 (ipykernel)",
   "language": "python",
   "name": "python3"
  },
  "language_info": {
   "codemirror_mode": {
    "name": "ipython",
    "version": 3
   },
   "file_extension": ".py",
   "mimetype": "text/x-python",
   "name": "python",
   "nbconvert_exporter": "python",
   "pygments_lexer": "ipython3",
   "version": "3.10.12"
  }
 },
 "nbformat": 4,
 "nbformat_minor": 5
}
