{
 "cells": [
  {
   "cell_type": "code",
   "execution_count": 10,
   "id": "acce6d80-f541-483b-b0fb-d42a1baaac86",
   "metadata": {},
   "outputs": [],
   "source": [
    "import pandas as pd\n",
    "import re\n",
    "import pysam\n",
    "from Bio import SeqIO\n",
    "from Bio.Seq import Seq\n",
    "from Bio.SeqRecord import SeqRecord"
   ]
  },
  {
   "cell_type": "code",
   "execution_count": 22,
   "id": "ac28c8d6-8d18-4dc9-9000-7df6279b8c1d",
   "metadata": {},
   "outputs": [
    {
     "name": "stdout",
     "output_type": "stream",
     "text": [
      "DF94KKQ1:297:C133RACXX:4:1101:4508:2238\n"
     ]
    },
    {
     "data": {
      "text/plain": [
       "{}"
      ]
     },
     "execution_count": 22,
     "metadata": {},
     "output_type": "execute_result"
    }
   ],
   "source": [
    "def analyze_samfile(sam_file, unaligned_file):\n",
    "    rc = {}\n",
    "    samfile = pysam.AlignmentFile(sam_file, 'r')\n",
    "    with open(unaligned_file, 'w') as f:\n",
    "        for rec in samfile.fetch():\n",
    "            if rec.reference_name:\n",
    "                if rec.reference_name not in rc:\n",
    "                    rc[rec.reference_name] = 1\n",
    "                else:\n",
    "                    rc[rec.reference_name] += 1\n",
    "            else:\n",
    "                if rec.seq:\n",
    "                    record = SeqRecord(\n",
    "                        Seq(rec.seq),\n",
    "                        id=rec.qname,\n",
    "                        description='',\n",
    "                    )\n",
    "                    SeqIO.write(record, f, 'fasta')\n",
    "    return rc\n",
    "\n",
    "samfile='/home/yuan/bio/results/P00002/T03_align_short_reads/LW_AB_1.sam'\n",
    "analyze_samfile(samfile, \"unaligned.fasta\")"
   ]
  },
  {
   "cell_type": "code",
   "execution_count": null,
   "id": "14e69f39-4457-4606-87e2-3d5796e67076",
   "metadata": {},
   "outputs": [],
   "source": []
  },
  {
   "cell_type": "code",
   "execution_count": null,
   "id": "d1c750c5-dbbd-4aec-b804-203cd75b24de",
   "metadata": {},
   "outputs": [],
   "source": []
  },
  {
   "cell_type": "code",
   "execution_count": 149,
   "id": "0d2965c8-1246-42d6-9a94-65d1df60ec80",
   "metadata": {},
   "outputs": [],
   "source": []
  },
  {
   "cell_type": "code",
   "execution_count": null,
   "id": "b645ff00-8e94-4254-8fb6-a8fdf451deb8",
   "metadata": {},
   "outputs": [],
   "source": []
  },
  {
   "cell_type": "code",
   "execution_count": null,
   "id": "7ba3a2aa-d7fd-4d00-a83f-01bd0ba3e225",
   "metadata": {},
   "outputs": [],
   "source": []
  }
 ],
 "metadata": {
  "kernelspec": {
   "display_name": "Python 3 (ipykernel)",
   "language": "python",
   "name": "python3"
  },
  "language_info": {
   "codemirror_mode": {
    "name": "ipython",
    "version": 3
   },
   "file_extension": ".py",
   "mimetype": "text/x-python",
   "name": "python",
   "nbconvert_exporter": "python",
   "pygments_lexer": "ipython3",
   "version": "3.10.12"
  }
 },
 "nbformat": 4,
 "nbformat_minor": 5
}
