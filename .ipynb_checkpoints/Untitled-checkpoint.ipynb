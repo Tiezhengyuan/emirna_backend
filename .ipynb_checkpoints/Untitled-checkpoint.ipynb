{
 "cells": [
  {
   "cell_type": "code",
   "execution_count": 4,
   "id": "acce6d80-f541-483b-b0fb-d42a1baaac86",
   "metadata": {},
   "outputs": [
    {
     "name": "stdout",
     "output_type": "stream",
     "text": [
      "ab None\n"
     ]
    }
   ],
   "source": [
    "class A:\n",
    "    id=None\n",
    "    # def __init__(self, project):\n",
    "    #     self.project=project\n",
    "\n",
    "    def __post_init__(self):\n",
    "        self.id=5\n",
    "\n",
    "a=A('ab')\n",
    "print(a.project, a.id)"
   ]
  }
 ],
 "metadata": {
  "kernelspec": {
   "display_name": "Python 3 (ipykernel)",
   "language": "python",
   "name": "python3"
  },
  "language_info": {
   "codemirror_mode": {
    "name": "ipython",
    "version": 3
   },
   "file_extension": ".py",
   "mimetype": "text/x-python",
   "name": "python",
   "nbconvert_exporter": "python",
   "pygments_lexer": "ipython3",
   "version": "3.10.12"
  }
 },
 "nbformat": 4,
 "nbformat_minor": 5
}
