{
 "cells": [
  {
   "cell_type": "code",
   "execution_count": 47,
   "id": "acce6d80-f541-483b-b0fb-d42a1baaac86",
   "metadata": {},
   "outputs": [],
   "source": [
    "import pandas as pd\n"
   ]
  },
  {
   "cell_type": "code",
   "execution_count": 84,
   "id": "ac28c8d6-8d18-4dc9-9000-7df6279b8c1d",
   "metadata": {},
   "outputs": [
    {
     "name": "stdout",
     "output_type": "stream",
     "text": [
      "(58085, 9)\n",
      "(58085, 9)\n",
      "(58086, 9)\n",
      "##\n",
      "                Gene ID  Gene Name     Reference Strand   Start     End  \\\n",
      "0         gene-DDX11L1    DDX11L1  NC_000001.11      +   11874   14409   \n",
      "1          gene-WASH7P     WASH7P  NC_000001.11      -   14362   29370   \n",
      "2       gene-MIR6859-1  MIR6859-1  NC_000001.11      -   17369   17436   \n",
      "3      rna-NR_106918.1  MIR6859-1  NC_000001.11      -   17369   17431   \n",
      "4          gene-WASH9P     WASH9P  NC_000001.11      -  184916  199875   \n",
      "...                ...        ...           ...    ...     ...     ...   \n",
      "58293         gene-ND5        ND5   NC_012920.1      +   12337   14148   \n",
      "58294         gene-ND6        ND6   NC_012920.1      -   14149   14673   \n",
      "58295        gene-TRNE       TRNE   NC_012920.1      -   14674   14742   \n",
      "58296        gene-CYTB       CYTB   NC_012920.1      +   14747   15887   \n",
      "58297  gene-C2orf27A-2   C2orf27A   NT_187528.1      +   25381   71290   \n",
      "\n",
      "       Coverage  1014_L1  1073_L1       197_L1  \n",
      "0      0.000000      0.0      0.0     0.000000  \n",
      "1      0.000000      0.0      0.0     0.000000  \n",
      "2      0.000000      0.0      0.0     0.000000  \n",
      "3      0.000000      0.0      0.0     0.000000  \n",
      "4      0.000000      0.0      0.0     0.000000  \n",
      "...         ...      ...      ...          ...  \n",
      "58293  4.242274      NaN      NaN  2065.604980  \n",
      "58294  4.474286      NaN      NaN  2178.573975  \n",
      "58295  1.362319      NaN      NaN   663.326538  \n",
      "58296  5.378615      NaN      NaN  2618.900635  \n",
      "58297  0.000000      NaN      NaN     0.000000  \n",
      "\n",
      "[58298 rows x 10 columns] (58298, 10)\n"
     ]
    }
   ],
   "source": [
    "infile = '/home/yuan/bio/results/P00001/assemble_transcripts/1014_L1.abund'\n",
    "df1 = pd.read_csv(infile, sep='\\t')\n",
    "print(df1.shape)\n",
    "df1=df1.loc[:,df1.columns!='TPM']\n",
    "df1.columns=df1.columns.str.replace('FPKM', '1014_L1')\n",
    "# print(df1)\n",
    "\n",
    "infile = '/home/yuan/bio/results/P00001/assemble_transcripts/1073_L1.abund'\n",
    "df2 = pd.read_csv(infile, sep='\\t')\n",
    "print(df2.shape)\n",
    "df2=df2.loc[:,df2.columns!='TPM']\n",
    "df2.columns=df2.columns.str.replace('FPKM', '1073_L1')\n",
    "# print(df2)\n",
    "\n",
    "infile = '/home/yuan/bio/results/P00001/assemble_transcripts/197_L1.abund'\n",
    "df3 = pd.read_csv(infile, sep='\\t')\n",
    "print(df3.shape)\n",
    "df3=df3.loc[:,df3.columns!='TPM']\n",
    "df3.columns=df3.columns.str.replace('FPKM', '197_L1')\n",
    "# print(df2)\n",
    "\n",
    "\n",
    "df = pd.merge(df1, df2, how='outer')\n",
    "df = pd.merge(df, df3, how='outer')\n",
    "print('##\\n', df, df.shape)\n"
   ]
  },
  {
   "cell_type": "code",
   "execution_count": 104,
   "id": "14e69f39-4457-4606-87e2-3d5796e67076",
   "metadata": {},
   "outputs": [
    {
     "name": "stdout",
     "output_type": "stream",
     "text": [
      "##\n",
      "                Gene ID Gene Name     Reference Strand    Start      End  \\\n",
      "0        gene-MIR12136  MIR12136  NC_000001.11      -   632615   632685   \n",
      "1      rna-NR_162149.1  MIR12136  NC_000001.11      -   632668   632685   \n",
      "2         gene-PLEKHN1   PLEKHN1  NC_000001.11      +   966482   975865   \n",
      "3           gene-PERM1     PERM1  NC_000001.11      -   975198   982093   \n",
      "4            gene-AGRN      AGRN  NC_000001.11      +  1020120  1056116   \n",
      "...                ...       ...           ...    ...      ...      ...   \n",
      "58081  gene-KIR2DS2-13   KIR2DS2   NT_113949.2      -   122955   137288   \n",
      "58082        gene-TRNI      TRNI   NC_012920.1      +     4263     4331   \n",
      "58083        gene-TRNQ      TRNQ   NC_012920.1      -     4329     4400   \n",
      "58084        gene-TRNF      TRNF   NC_012920.1      +      577      647   \n",
      "58085        gene-TRNM      TRNM   NC_012920.1      +     4402     4469   \n",
      "\n",
      "       Coverage        FPKM          TPM  \n",
      "0      1.280553  623.513855  3883.832764  \n",
      "1      0.000000    0.000000     0.000000  \n",
      "2      0.000000    0.000000     0.000000  \n",
      "3      0.000000    0.000000     0.000000  \n",
      "4      0.000000    0.000000     0.000000  \n",
      "...         ...         ...          ...  \n",
      "58081  0.000000    0.000000     0.000000  \n",
      "58082  0.000000    0.000000     0.000000  \n",
      "58083  0.000000    0.000000     0.000000  \n",
      "58084  0.000000    0.000000     0.000000  \n",
      "58085  0.000000    0.000000     0.000000  \n",
      "\n",
      "[58086 rows x 9 columns] (58086, 9)\n"
     ]
    },
    {
     "ename": "ValueError",
     "evalue": "The truth value of a DataFrame is ambiguous. Use a.empty, a.bool(), a.item(), a.any() or a.all().",
     "output_type": "error",
     "traceback": [
      "\u001b[0;31m---------------------------------------------------------------------------\u001b[0m",
      "\u001b[0;31mValueError\u001b[0m                                Traceback (most recent call last)",
      "\u001b[0;32m/tmp/ipykernel_33523/3901755320.py\u001b[0m in \u001b[0;36m?\u001b[0;34m()\u001b[0m\n\u001b[1;32m      8\u001b[0m     \u001b[0;31m# df1=df1.loc[:10,df1.columns!='TPM']\u001b[0m\u001b[0;34m\u001b[0m\u001b[0;34m\u001b[0m\u001b[0m\n\u001b[1;32m      9\u001b[0m     \u001b[0;31m# df1.columns=df1.columns.str.replace('FPKM', s)\u001b[0m\u001b[0;34m\u001b[0m\u001b[0;34m\u001b[0m\u001b[0m\n\u001b[1;32m     10\u001b[0m     \u001b[0;31m# tmp = df1.copy().fillna(0)\u001b[0m\u001b[0;34m\u001b[0m\u001b[0;34m\u001b[0m\u001b[0m\n\u001b[1;32m     11\u001b[0m     \u001b[0;31m# print(tmp)\u001b[0m\u001b[0;34m\u001b[0m\u001b[0;34m\u001b[0m\u001b[0m\n\u001b[0;32m---> 12\u001b[0;31m     \u001b[0mdf\u001b[0m \u001b[0;34m=\u001b[0m \u001b[0mpd\u001b[0m\u001b[0;34m.\u001b[0m\u001b[0mmerge\u001b[0m\u001b[0;34m(\u001b[0m\u001b[0mdf\u001b[0m\u001b[0;34m,\u001b[0m \u001b[0mdf1\u001b[0m\u001b[0;34m,\u001b[0m \u001b[0mhow\u001b[0m\u001b[0;34m=\u001b[0m\u001b[0;34m'outer'\u001b[0m\u001b[0;34m)\u001b[0m \u001b[0;32mif\u001b[0m \u001b[0mdf\u001b[0m \u001b[0;32melse\u001b[0m \u001b[0mdf1\u001b[0m\u001b[0;34m\u001b[0m\u001b[0;34m\u001b[0m\u001b[0m\n\u001b[0m\u001b[1;32m     13\u001b[0m \u001b[0;34m\u001b[0m\u001b[0m\n\u001b[1;32m     14\u001b[0m     \u001b[0mprint\u001b[0m\u001b[0;34m(\u001b[0m\u001b[0;34m'##\\n'\u001b[0m\u001b[0;34m,\u001b[0m \u001b[0mdf\u001b[0m\u001b[0;34m,\u001b[0m \u001b[0mdf\u001b[0m\u001b[0;34m.\u001b[0m\u001b[0mshape\u001b[0m\u001b[0;34m)\u001b[0m\u001b[0;34m\u001b[0m\u001b[0;34m\u001b[0m\u001b[0m\n",
      "\u001b[0;32m~/.local/lib/python3.10/site-packages/pandas/core/generic.py\u001b[0m in \u001b[0;36m?\u001b[0;34m(self)\u001b[0m\n\u001b[1;32m   1517\u001b[0m     \u001b[0;34m@\u001b[0m\u001b[0mfinal\u001b[0m\u001b[0;34m\u001b[0m\u001b[0;34m\u001b[0m\u001b[0m\n\u001b[1;32m   1518\u001b[0m     \u001b[0;32mdef\u001b[0m \u001b[0m__nonzero__\u001b[0m\u001b[0;34m(\u001b[0m\u001b[0mself\u001b[0m\u001b[0;34m)\u001b[0m \u001b[0;34m->\u001b[0m \u001b[0mNoReturn\u001b[0m\u001b[0;34m:\u001b[0m\u001b[0;34m\u001b[0m\u001b[0;34m\u001b[0m\u001b[0m\n\u001b[0;32m-> 1519\u001b[0;31m         raise ValueError(\n\u001b[0m\u001b[1;32m   1520\u001b[0m             \u001b[0;34mf\"The truth value of a {type(self).__name__} is ambiguous. \"\u001b[0m\u001b[0;34m\u001b[0m\u001b[0;34m\u001b[0m\u001b[0m\n\u001b[1;32m   1521\u001b[0m             \u001b[0;34m\"Use a.empty, a.bool(), a.item(), a.any() or a.all().\"\u001b[0m\u001b[0;34m\u001b[0m\u001b[0;34m\u001b[0m\u001b[0m\n\u001b[1;32m   1522\u001b[0m         )\n",
      "\u001b[0;31mValueError\u001b[0m: The truth value of a DataFrame is ambiguous. Use a.empty, a.bool(), a.item(), a.any() or a.all()."
     ]
    }
   ],
   "source": [
    "df =None\n",
    "p= ['197_L1', '1014_L1', '1073_L1']\n",
    "while p:\n",
    "    s = p.pop(0)\n",
    "    infile = f'/home/yuan/bio/results/P00001/assemble_transcripts/{s}.abund'\n",
    "    df1 = pd.read_csv(infile, sep='\\t')\n",
    "    # print(df1.shape)\n",
    "    # df1=df1.loc[:10,df1.columns!='TPM']\n",
    "    # df1.columns=df1.columns.str.replace('FPKM', s)\n",
    "    # tmp = df1.copy().fillna(0)\n",
    "    # print(tmp)\n",
    "    df = pd.merge(df, df1, how='outer') if df else df1\n",
    "    \n",
    "    # print('##\\n', df, df.shape)\n"
   ]
  },
  {
   "cell_type": "code",
   "execution_count": null,
   "id": "b645ff00-8e94-4254-8fb6-a8fdf451deb8",
   "metadata": {},
   "outputs": [],
   "source": []
  }
 ],
 "metadata": {
  "kernelspec": {
   "display_name": "Python 3 (ipykernel)",
   "language": "python",
   "name": "python3"
  },
  "language_info": {
   "codemirror_mode": {
    "name": "ipython",
    "version": 3
   },
   "file_extension": ".py",
   "mimetype": "text/x-python",
   "name": "python",
   "nbconvert_exporter": "python",
   "pygments_lexer": "ipython3",
   "version": "3.10.12"
  }
 },
 "nbformat": 4,
 "nbformat_minor": 5
}
